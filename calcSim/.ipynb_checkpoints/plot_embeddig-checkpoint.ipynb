{
 "cells": [
  {
   "cell_type": "code",
   "execution_count": 3,
   "metadata": {},
   "outputs": [],
   "source": [
    "from calcMAP import *"
   ]
  },
  {
   "cell_type": "code",
   "execution_count": 4,
   "metadata": {},
   "outputs": [
    {
     "name": "stdout",
     "output_type": "stream",
     "text": [
      "********************************************************************************\n",
      "Starting to evaluate glove_w5 ...\n",
      "Load 33622 glove_w5 word vectors from pretrained file\n",
      "excluded formal = 112\n",
      "excluded informal = 1129\n",
      "245 evaluation pairs\n"
     ]
    }
   ],
   "source": [
    "i=0 \n",
    "print('*' * 80 + '\\n' + 'Starting to evaluate %s ...' % EXP_[i])\n",
    "glove_embedding, informal_vocab = load_embedding(i, embedding_path[i])\n",
    "\n",
    "with open(formal_vocab_file) as formal_vocab_f:\n",
    "    formal_vocab = set([line.split()[0] for line in formal_vocab_f])\n",
    "glove_vec = np.array([v for v in glove_embedding.values()])\n",
    "\n",
    "glove_variants = filter_variant_tuple(gold_tup_file, formal_vocab, informal_vocab)\n",
    "print(\"%i evaluation pairs\" % len(glove_variants))"
   ]
  },
  {
   "cell_type": "code",
   "execution_count": 5,
   "metadata": {},
   "outputs": [
    {
     "name": "stdout",
     "output_type": "stream",
     "text": [
      "********************************************************************************\n",
      "Starting to evaluate cbow_w5 ...\n",
      "Load 33567 cbow_w5 word vectors from pretrained file\n",
      "excluded formal = 112\n",
      "excluded informal = 1129\n",
      "245 evaluation pairs\n"
     ]
    }
   ],
   "source": [
    "i=1\n",
    "print('*' * 80 + '\\n' + 'Starting to evaluate %s ...' % EXP_[i])\n",
    "cbow_embedding, informal_vocab = load_embedding(i, embedding_path[i])\n",
    "\n",
    "with open(formal_vocab_file) as formal_vocab_f:\n",
    "    formal_vocab = set([line.split()[0] for line in formal_vocab_f])\n",
    "cbow_vec = np.array([v for v in cbow_embedding.values()])\n",
    "\n",
    "cbow_variants = filter_variant_tuple(gold_tup_file, formal_vocab, informal_vocab)\n",
    "print(\"%i evaluation pairs\" % len(cbow_variants))"
   ]
  },
  {
   "cell_type": "code",
   "execution_count": null,
   "metadata": {},
   "outputs": [],
   "source": [
    "i=2\n",
    "print('*' * 80 + '\\n' + 'Starting to evaluate %s ...' % EXP_[i])\n",
    "sg_embedding, informal_vocab = load_embedding(i, embedding_path[i])\n",
    "\n",
    "with open(formal_vocab_file) as formal_vocab_f:\n",
    "    formal_vocab = set([line.split()[0] for line in formal_vocab_f])\n",
    "sg_vec = np.array([v for v in sg_embedding.values()])\n",
    "\n",
    "sg_variants = filter_variant_tuple(gold_tup_file, formal_vocab, informal_vocab)\n",
    "print(\"%i evaluation pairs\" % len(sg_variants))"
   ]
  },
  {
   "cell_type": "code",
   "execution_count": 7,
   "metadata": {},
   "outputs": [],
   "source": [
    "from sklearn.decomposition import PCA\n",
    "\n",
    "pca = PCA(n_components=3)\n",
    "pca_result = pca.fit_transform(glove_vec)\n",
    "df = pd.DataFrame()\n",
    "df['pca-one'] = pca_result[:,0]\n",
    "df['pca-two'] = pca_result[:,1] \n",
    "df['pca-three'] = pca_result[:,2]"
   ]
  },
  {
   "cell_type": "code",
   "execution_count": null,
   "metadata": {},
   "outputs": [],
   "source": [
    "pca_result.shape"
   ]
  },
  {
   "cell_type": "code",
   "execution_count": null,
   "metadata": {},
   "outputs": [],
   "source": [
    "d = [(w, v, _embedding[w], _embedding[v]) for w,v in variants]\n",
    "# df = pd.DataFrame.from_records(d, columns=['w','v', 'w_vec', 'v_vec'])"
   ]
  }
 ],
 "metadata": {
  "kernelspec": {
   "display_name": "Python 3",
   "language": "python",
   "name": "python3"
  },
  "language_info": {
   "codemirror_mode": {
    "name": "ipython",
    "version": 3
   },
   "file_extension": ".py",
   "mimetype": "text/x-python",
   "name": "python",
   "nbconvert_exporter": "python",
   "pygments_lexer": "ipython3",
   "version": "3.6.6"
  },
  "varInspector": {
   "cols": {
    "lenName": 16,
    "lenType": 16,
    "lenVar": 40
   },
   "kernels_config": {
    "python": {
     "delete_cmd_postfix": "",
     "delete_cmd_prefix": "del ",
     "library": "var_list.py",
     "varRefreshCmd": "print(var_dic_list())"
    },
    "r": {
     "delete_cmd_postfix": ") ",
     "delete_cmd_prefix": "rm(",
     "library": "var_list.r",
     "varRefreshCmd": "cat(var_dic_list()) "
    }
   },
   "types_to_exclude": [
    "module",
    "function",
    "builtin_function_or_method",
    "instance",
    "_Feature"
   ],
   "window_display": false
  }
 },
 "nbformat": 4,
 "nbformat_minor": 2
}
